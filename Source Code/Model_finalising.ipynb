{
  "nbformat": 4,
  "nbformat_minor": 0,
  "metadata": {
    "accelerator": "GPU",
    "colab": {
      "name": "Model_finalising.ipynb",
      "provenance": []
    },
    "kernelspec": {
      "display_name": "Python 3",
      "language": "python",
      "name": "python3"
    },
    "language_info": {
      "codemirror_mode": {
        "name": "ipython",
        "version": 3
      },
      "file_extension": ".py",
      "mimetype": "text/x-python",
      "name": "python",
      "nbconvert_exporter": "python",
      "pygments_lexer": "ipython3",
      "version": "3.8.5"
    }
  },
  "cells": [
    {
      "cell_type": "code",
      "metadata": {
        "id": "kf3SiSeifc1b"
      },
      "source": [
        "import pandas as pd"
      ],
      "execution_count": 1,
      "outputs": []
    },
    {
      "cell_type": "code",
      "metadata": {
        "id": "2TuJNFfQgfrs"
      },
      "source": [
        "ppg_finalised_features=pd.read_csv('PPG_Finalised.csv')#Reading the ppg finalised dataset"
      ],
      "execution_count": 2,
      "outputs": []
    },
    {
      "cell_type": "code",
      "metadata": {
        "colab": {
          "base_uri": "https://localhost:8080/",
          "height": 266
        },
        "id": "WzY2hJETgkUY",
        "outputId": "f26548f9-68c7-45ac-a75c-b5ad554e93bb"
      },
      "source": [
        "ppg_finalised_features.head()"
      ],
      "execution_count": 3,
      "outputs": [
        {
          "output_type": "execute_result",
          "data": {
            "text/html": [
              "<div>\n",
              "<style scoped>\n",
              "    .dataframe tbody tr th:only-of-type {\n",
              "        vertical-align: middle;\n",
              "    }\n",
              "\n",
              "    .dataframe tbody tr th {\n",
              "        vertical-align: top;\n",
              "    }\n",
              "\n",
              "    .dataframe thead th {\n",
              "        text-align: right;\n",
              "    }\n",
              "</style>\n",
              "<table border=\"1\" class=\"dataframe\">\n",
              "  <thead>\n",
              "    <tr style=\"text-align: right;\">\n",
              "      <th></th>\n",
              "      <th>Sex(M/F)</th>\n",
              "      <th>Age(year)</th>\n",
              "      <th>Height(cm)</th>\n",
              "      <th>Weight(kg)</th>\n",
              "      <th>Heart Rate(b/m)</th>\n",
              "      <th>BMI(kg/m^2)</th>\n",
              "      <th>Hypertension</th>\n",
              "      <th>0</th>\n",
              "      <th>1</th>\n",
              "      <th>2</th>\n",
              "      <th>3</th>\n",
              "      <th>4</th>\n",
              "      <th>5</th>\n",
              "      <th>6</th>\n",
              "      <th>7</th>\n",
              "      <th>8</th>\n",
              "      <th>9</th>\n",
              "      <th>10</th>\n",
              "      <th>11</th>\n",
              "      <th>12</th>\n",
              "      <th>13</th>\n",
              "      <th>14</th>\n",
              "      <th>15</th>\n",
              "      <th>16</th>\n",
              "      <th>17</th>\n",
              "      <th>18</th>\n",
              "      <th>19</th>\n",
              "      <th>20</th>\n",
              "      <th>21</th>\n",
              "      <th>22</th>\n",
              "    </tr>\n",
              "  </thead>\n",
              "  <tbody>\n",
              "    <tr>\n",
              "      <th>0</th>\n",
              "      <td>0</td>\n",
              "      <td>45</td>\n",
              "      <td>152</td>\n",
              "      <td>63</td>\n",
              "      <td>97</td>\n",
              "      <td>27.268006</td>\n",
              "      <td>Stage 2 hypertension</td>\n",
              "      <td>6.874442</td>\n",
              "      <td>-26.276675</td>\n",
              "      <td>13.268578</td>\n",
              "      <td>6.604219</td>\n",
              "      <td>-13.419384</td>\n",
              "      <td>-10.309675</td>\n",
              "      <td>1.460167</td>\n",
              "      <td>-4.973057</td>\n",
              "      <td>-5.168877</td>\n",
              "      <td>-2.865429</td>\n",
              "      <td>-2.842754</td>\n",
              "      <td>4.394693</td>\n",
              "      <td>4.481392</td>\n",
              "      <td>3.801316</td>\n",
              "      <td>-3.292828</td>\n",
              "      <td>-1.375442</td>\n",
              "      <td>2.333204</td>\n",
              "      <td>3.550070</td>\n",
              "      <td>-0.454649</td>\n",
              "      <td>-0.300077</td>\n",
              "      <td>-1.354707</td>\n",
              "      <td>-3.518339</td>\n",
              "      <td>-0.817157</td>\n",
              "    </tr>\n",
              "    <tr>\n",
              "      <th>1</th>\n",
              "      <td>0</td>\n",
              "      <td>50</td>\n",
              "      <td>157</td>\n",
              "      <td>50</td>\n",
              "      <td>76</td>\n",
              "      <td>20.284799</td>\n",
              "      <td>Stage 2 hypertension</td>\n",
              "      <td>5.159124</td>\n",
              "      <td>-2.502626</td>\n",
              "      <td>-6.762113</td>\n",
              "      <td>-4.462335</td>\n",
              "      <td>4.832346</td>\n",
              "      <td>-4.531561</td>\n",
              "      <td>-2.889399</td>\n",
              "      <td>0.477159</td>\n",
              "      <td>2.368463</td>\n",
              "      <td>1.272849</td>\n",
              "      <td>-1.995750</td>\n",
              "      <td>0.569276</td>\n",
              "      <td>-1.050329</td>\n",
              "      <td>0.887410</td>\n",
              "      <td>-0.015154</td>\n",
              "      <td>-0.238360</td>\n",
              "      <td>0.679078</td>\n",
              "      <td>-0.406106</td>\n",
              "      <td>1.120136</td>\n",
              "      <td>1.482796</td>\n",
              "      <td>-0.099423</td>\n",
              "      <td>-0.302771</td>\n",
              "      <td>1.489630</td>\n",
              "    </tr>\n",
              "    <tr>\n",
              "      <th>2</th>\n",
              "      <td>0</td>\n",
              "      <td>47</td>\n",
              "      <td>150</td>\n",
              "      <td>47</td>\n",
              "      <td>79</td>\n",
              "      <td>20.888889</td>\n",
              "      <td>Normal</td>\n",
              "      <td>6.847518</td>\n",
              "      <td>-0.656525</td>\n",
              "      <td>-6.195787</td>\n",
              "      <td>-2.688312</td>\n",
              "      <td>3.748400</td>\n",
              "      <td>-4.270678</td>\n",
              "      <td>-3.660029</td>\n",
              "      <td>1.816695</td>\n",
              "      <td>-0.057156</td>\n",
              "      <td>1.901490</td>\n",
              "      <td>-1.315155</td>\n",
              "      <td>-0.399230</td>\n",
              "      <td>-1.107734</td>\n",
              "      <td>1.545901</td>\n",
              "      <td>-0.621452</td>\n",
              "      <td>1.137124</td>\n",
              "      <td>-0.954881</td>\n",
              "      <td>0.087972</td>\n",
              "      <td>0.053862</td>\n",
              "      <td>0.633556</td>\n",
              "      <td>-0.083866</td>\n",
              "      <td>0.131694</td>\n",
              "      <td>-1.392140</td>\n",
              "    </tr>\n",
              "    <tr>\n",
              "      <th>3</th>\n",
              "      <td>1</td>\n",
              "      <td>45</td>\n",
              "      <td>172</td>\n",
              "      <td>65</td>\n",
              "      <td>87</td>\n",
              "      <td>21.971336</td>\n",
              "      <td>Prehypertension</td>\n",
              "      <td>1.323732</td>\n",
              "      <td>-21.503364</td>\n",
              "      <td>2.718157</td>\n",
              "      <td>-1.868950</td>\n",
              "      <td>-4.684047</td>\n",
              "      <td>5.366739</td>\n",
              "      <td>-6.550992</td>\n",
              "      <td>0.907731</td>\n",
              "      <td>3.427119</td>\n",
              "      <td>-0.614211</td>\n",
              "      <td>2.359187</td>\n",
              "      <td>-4.396649</td>\n",
              "      <td>-1.647784</td>\n",
              "      <td>0.347119</td>\n",
              "      <td>-2.086219</td>\n",
              "      <td>-1.842610</td>\n",
              "      <td>0.170575</td>\n",
              "      <td>0.180303</td>\n",
              "      <td>-2.153899</td>\n",
              "      <td>1.181756</td>\n",
              "      <td>-0.171474</td>\n",
              "      <td>-0.923647</td>\n",
              "      <td>0.402769</td>\n",
              "    </tr>\n",
              "    <tr>\n",
              "      <th>4</th>\n",
              "      <td>0</td>\n",
              "      <td>46</td>\n",
              "      <td>155</td>\n",
              "      <td>65</td>\n",
              "      <td>73</td>\n",
              "      <td>27.055151</td>\n",
              "      <td>Prehypertension</td>\n",
              "      <td>1.459466</td>\n",
              "      <td>0.432907</td>\n",
              "      <td>-9.537420</td>\n",
              "      <td>-0.906677</td>\n",
              "      <td>1.538733</td>\n",
              "      <td>-3.219885</td>\n",
              "      <td>-3.096710</td>\n",
              "      <td>2.559676</td>\n",
              "      <td>-2.406415</td>\n",
              "      <td>2.473865</td>\n",
              "      <td>0.254932</td>\n",
              "      <td>-2.116329</td>\n",
              "      <td>2.199281</td>\n",
              "      <td>-0.485608</td>\n",
              "      <td>0.304128</td>\n",
              "      <td>0.220050</td>\n",
              "      <td>0.087176</td>\n",
              "      <td>0.021992</td>\n",
              "      <td>-0.496049</td>\n",
              "      <td>-1.387934</td>\n",
              "      <td>-0.004746</td>\n",
              "      <td>-0.217980</td>\n",
              "      <td>1.494885</td>\n",
              "    </tr>\n",
              "  </tbody>\n",
              "</table>\n",
              "</div>"
            ],
            "text/plain": [
              "   Sex(M/F)  Age(year)  Height(cm)  ...        20        21        22\n",
              "0         0         45         152  ... -1.354707 -3.518339 -0.817157\n",
              "1         0         50         157  ... -0.099423 -0.302771  1.489630\n",
              "2         0         47         150  ... -0.083866  0.131694 -1.392140\n",
              "3         1         45         172  ... -0.171474 -0.923647  0.402769\n",
              "4         0         46         155  ... -0.004746 -0.217980  1.494885\n",
              "\n",
              "[5 rows x 30 columns]"
            ]
          },
          "metadata": {
            "tags": []
          },
          "execution_count": 3
        }
      ]
    },
    {
      "cell_type": "code",
      "metadata": {
        "colab": {
          "base_uri": "https://localhost:8080/"
        },
        "id": "VT8i1wm3gk-P",
        "outputId": "bd91a0db-28e4-4fd8-890b-e1ae25ac80a1"
      },
      "source": [
        "len(ppg_finalised_features)"
      ],
      "execution_count": 4,
      "outputs": [
        {
          "output_type": "execute_result",
          "data": {
            "text/plain": [
              "628"
            ]
          },
          "metadata": {
            "tags": []
          },
          "execution_count": 4
        }
      ]
    },
    {
      "cell_type": "code",
      "metadata": {
        "id": "lZoBY60zgpry"
      },
      "source": [
        "X=ppg_finalised_features.drop(\"Hypertension\",axis=1)#independent features"
      ],
      "execution_count": 5,
      "outputs": []
    },
    {
      "cell_type": "code",
      "metadata": {
        "colab": {
          "base_uri": "https://localhost:8080/",
          "height": 232
        },
        "id": "7lCgoblIkb8T",
        "outputId": "18b92064-6d06-41aa-9eed-781e4d88cfee"
      },
      "source": [
        "X.head()"
      ],
      "execution_count": 6,
      "outputs": [
        {
          "output_type": "execute_result",
          "data": {
            "text/html": [
              "<div>\n",
              "<style scoped>\n",
              "    .dataframe tbody tr th:only-of-type {\n",
              "        vertical-align: middle;\n",
              "    }\n",
              "\n",
              "    .dataframe tbody tr th {\n",
              "        vertical-align: top;\n",
              "    }\n",
              "\n",
              "    .dataframe thead th {\n",
              "        text-align: right;\n",
              "    }\n",
              "</style>\n",
              "<table border=\"1\" class=\"dataframe\">\n",
              "  <thead>\n",
              "    <tr style=\"text-align: right;\">\n",
              "      <th></th>\n",
              "      <th>Sex(M/F)</th>\n",
              "      <th>Age(year)</th>\n",
              "      <th>Height(cm)</th>\n",
              "      <th>Weight(kg)</th>\n",
              "      <th>Heart Rate(b/m)</th>\n",
              "      <th>BMI(kg/m^2)</th>\n",
              "      <th>0</th>\n",
              "      <th>1</th>\n",
              "      <th>2</th>\n",
              "      <th>3</th>\n",
              "      <th>4</th>\n",
              "      <th>5</th>\n",
              "      <th>6</th>\n",
              "      <th>7</th>\n",
              "      <th>8</th>\n",
              "      <th>9</th>\n",
              "      <th>10</th>\n",
              "      <th>11</th>\n",
              "      <th>12</th>\n",
              "      <th>13</th>\n",
              "      <th>14</th>\n",
              "      <th>15</th>\n",
              "      <th>16</th>\n",
              "      <th>17</th>\n",
              "      <th>18</th>\n",
              "      <th>19</th>\n",
              "      <th>20</th>\n",
              "      <th>21</th>\n",
              "      <th>22</th>\n",
              "    </tr>\n",
              "  </thead>\n",
              "  <tbody>\n",
              "    <tr>\n",
              "      <th>0</th>\n",
              "      <td>0</td>\n",
              "      <td>45</td>\n",
              "      <td>152</td>\n",
              "      <td>63</td>\n",
              "      <td>97</td>\n",
              "      <td>27.268006</td>\n",
              "      <td>6.874442</td>\n",
              "      <td>-26.276675</td>\n",
              "      <td>13.268578</td>\n",
              "      <td>6.604219</td>\n",
              "      <td>-13.419384</td>\n",
              "      <td>-10.309675</td>\n",
              "      <td>1.460167</td>\n",
              "      <td>-4.973057</td>\n",
              "      <td>-5.168877</td>\n",
              "      <td>-2.865429</td>\n",
              "      <td>-2.842754</td>\n",
              "      <td>4.394693</td>\n",
              "      <td>4.481392</td>\n",
              "      <td>3.801316</td>\n",
              "      <td>-3.292828</td>\n",
              "      <td>-1.375442</td>\n",
              "      <td>2.333204</td>\n",
              "      <td>3.550070</td>\n",
              "      <td>-0.454649</td>\n",
              "      <td>-0.300077</td>\n",
              "      <td>-1.354707</td>\n",
              "      <td>-3.518339</td>\n",
              "      <td>-0.817157</td>\n",
              "    </tr>\n",
              "    <tr>\n",
              "      <th>1</th>\n",
              "      <td>0</td>\n",
              "      <td>50</td>\n",
              "      <td>157</td>\n",
              "      <td>50</td>\n",
              "      <td>76</td>\n",
              "      <td>20.284799</td>\n",
              "      <td>5.159124</td>\n",
              "      <td>-2.502626</td>\n",
              "      <td>-6.762113</td>\n",
              "      <td>-4.462335</td>\n",
              "      <td>4.832346</td>\n",
              "      <td>-4.531561</td>\n",
              "      <td>-2.889399</td>\n",
              "      <td>0.477159</td>\n",
              "      <td>2.368463</td>\n",
              "      <td>1.272849</td>\n",
              "      <td>-1.995750</td>\n",
              "      <td>0.569276</td>\n",
              "      <td>-1.050329</td>\n",
              "      <td>0.887410</td>\n",
              "      <td>-0.015154</td>\n",
              "      <td>-0.238360</td>\n",
              "      <td>0.679078</td>\n",
              "      <td>-0.406106</td>\n",
              "      <td>1.120136</td>\n",
              "      <td>1.482796</td>\n",
              "      <td>-0.099423</td>\n",
              "      <td>-0.302771</td>\n",
              "      <td>1.489630</td>\n",
              "    </tr>\n",
              "    <tr>\n",
              "      <th>2</th>\n",
              "      <td>0</td>\n",
              "      <td>47</td>\n",
              "      <td>150</td>\n",
              "      <td>47</td>\n",
              "      <td>79</td>\n",
              "      <td>20.888889</td>\n",
              "      <td>6.847518</td>\n",
              "      <td>-0.656525</td>\n",
              "      <td>-6.195787</td>\n",
              "      <td>-2.688312</td>\n",
              "      <td>3.748400</td>\n",
              "      <td>-4.270678</td>\n",
              "      <td>-3.660029</td>\n",
              "      <td>1.816695</td>\n",
              "      <td>-0.057156</td>\n",
              "      <td>1.901490</td>\n",
              "      <td>-1.315155</td>\n",
              "      <td>-0.399230</td>\n",
              "      <td>-1.107734</td>\n",
              "      <td>1.545901</td>\n",
              "      <td>-0.621452</td>\n",
              "      <td>1.137124</td>\n",
              "      <td>-0.954881</td>\n",
              "      <td>0.087972</td>\n",
              "      <td>0.053862</td>\n",
              "      <td>0.633556</td>\n",
              "      <td>-0.083866</td>\n",
              "      <td>0.131694</td>\n",
              "      <td>-1.392140</td>\n",
              "    </tr>\n",
              "    <tr>\n",
              "      <th>3</th>\n",
              "      <td>1</td>\n",
              "      <td>45</td>\n",
              "      <td>172</td>\n",
              "      <td>65</td>\n",
              "      <td>87</td>\n",
              "      <td>21.971336</td>\n",
              "      <td>1.323732</td>\n",
              "      <td>-21.503364</td>\n",
              "      <td>2.718157</td>\n",
              "      <td>-1.868950</td>\n",
              "      <td>-4.684047</td>\n",
              "      <td>5.366739</td>\n",
              "      <td>-6.550992</td>\n",
              "      <td>0.907731</td>\n",
              "      <td>3.427119</td>\n",
              "      <td>-0.614211</td>\n",
              "      <td>2.359187</td>\n",
              "      <td>-4.396649</td>\n",
              "      <td>-1.647784</td>\n",
              "      <td>0.347119</td>\n",
              "      <td>-2.086219</td>\n",
              "      <td>-1.842610</td>\n",
              "      <td>0.170575</td>\n",
              "      <td>0.180303</td>\n",
              "      <td>-2.153899</td>\n",
              "      <td>1.181756</td>\n",
              "      <td>-0.171474</td>\n",
              "      <td>-0.923647</td>\n",
              "      <td>0.402769</td>\n",
              "    </tr>\n",
              "    <tr>\n",
              "      <th>4</th>\n",
              "      <td>0</td>\n",
              "      <td>46</td>\n",
              "      <td>155</td>\n",
              "      <td>65</td>\n",
              "      <td>73</td>\n",
              "      <td>27.055151</td>\n",
              "      <td>1.459466</td>\n",
              "      <td>0.432907</td>\n",
              "      <td>-9.537420</td>\n",
              "      <td>-0.906677</td>\n",
              "      <td>1.538733</td>\n",
              "      <td>-3.219885</td>\n",
              "      <td>-3.096710</td>\n",
              "      <td>2.559676</td>\n",
              "      <td>-2.406415</td>\n",
              "      <td>2.473865</td>\n",
              "      <td>0.254932</td>\n",
              "      <td>-2.116329</td>\n",
              "      <td>2.199281</td>\n",
              "      <td>-0.485608</td>\n",
              "      <td>0.304128</td>\n",
              "      <td>0.220050</td>\n",
              "      <td>0.087176</td>\n",
              "      <td>0.021992</td>\n",
              "      <td>-0.496049</td>\n",
              "      <td>-1.387934</td>\n",
              "      <td>-0.004746</td>\n",
              "      <td>-0.217980</td>\n",
              "      <td>1.494885</td>\n",
              "    </tr>\n",
              "  </tbody>\n",
              "</table>\n",
              "</div>"
            ],
            "text/plain": [
              "   Sex(M/F)  Age(year)  Height(cm)  ...        20        21        22\n",
              "0         0         45         152  ... -1.354707 -3.518339 -0.817157\n",
              "1         0         50         157  ... -0.099423 -0.302771  1.489630\n",
              "2         0         47         150  ... -0.083866  0.131694 -1.392140\n",
              "3         1         45         172  ... -0.171474 -0.923647  0.402769\n",
              "4         0         46         155  ... -0.004746 -0.217980  1.494885\n",
              "\n",
              "[5 rows x 29 columns]"
            ]
          },
          "metadata": {
            "tags": []
          },
          "execution_count": 6
        }
      ]
    },
    {
      "cell_type": "code",
      "metadata": {
        "id": "V4KuTBBqkoco"
      },
      "source": [
        "Y=ppg_finalised_features['Hypertension']#dependent features"
      ],
      "execution_count": 7,
      "outputs": []
    },
    {
      "cell_type": "code",
      "metadata": {
        "colab": {
          "base_uri": "https://localhost:8080/"
        },
        "id": "3yx2P4gLkswg",
        "outputId": "84a7359d-57c8-4d79-df3f-47fe8ad1b893"
      },
      "source": [
        "Y.head()"
      ],
      "execution_count": 8,
      "outputs": [
        {
          "output_type": "execute_result",
          "data": {
            "text/plain": [
              "0    Stage 2 hypertension\n",
              "1    Stage 2 hypertension\n",
              "2                  Normal\n",
              "3         Prehypertension\n",
              "4         Prehypertension\n",
              "Name: Hypertension, dtype: object"
            ]
          },
          "metadata": {
            "tags": []
          },
          "execution_count": 8
        }
      ]
    },
    {
      "cell_type": "code",
      "metadata": {
        "id": "FVWGF6mtlBNf"
      },
      "source": [
        "params={\n",
        " \"learning_rate\"    : [0.001,0.01,0.02,0.05, 0.10, 0.15, 0.20, 0.25, 0.30 ] ,\n",
        " \"max_depth\"        : [ 3, 4, 5, 6, 8, 10, 12, 15],\n",
        " \"min_child_weight\" : [ 1, 3, 5, 7 ],\n",
        " \"gamma\"            : [ 0.0, 0.1, 0.2 , 0.3, 0.4 ],\n",
        " \"colsample_bytree\" : [ 0.3, 0.4, 0.5 , 0.7 ]\n",
        "    \n",
        "}"
      ],
      "execution_count": 9,
      "outputs": []
    },
    {
      "cell_type": "code",
      "metadata": {
        "colab": {
          "base_uri": "https://localhost:8080/"
        },
        "id": "7QTnWWnflWVJ",
        "outputId": "2d339465-299b-4127-ca1d-8c22953528c5"
      },
      "source": [
        "from sklearn.model_selection import RandomizedSearchCV, GridSearchCV\n",
        "import xgboost\n",
        "X.shape"
      ],
      "execution_count": 10,
      "outputs": [
        {
          "output_type": "execute_result",
          "data": {
            "text/plain": [
              "(628, 29)"
            ]
          },
          "metadata": {
            "tags": []
          },
          "execution_count": 10
        }
      ]
    },
    {
      "cell_type": "code",
      "metadata": {
        "id": "p51cLNanlYlY"
      },
      "source": [
        "classifier=xgboost.XGBClassifier()"
      ],
      "execution_count": 11,
      "outputs": []
    },
    {
      "cell_type": "code",
      "metadata": {
        "id": "8VvY1bRplfc3"
      },
      "source": [
        "random_search=RandomizedSearchCV(classifier,param_distributions=params,n_iter=5,scoring='recall_weighted',n_jobs=-1,cv=10,verbose=3)"
      ],
      "execution_count": 12,
      "outputs": []
    },
    {
      "cell_type": "code",
      "metadata": {
        "colab": {
          "base_uri": "https://localhost:8080/"
        },
        "id": "GjD2ACZXlinn",
        "outputId": "a102a774-ce19-4bf4-88c5-a2988cee932c"
      },
      "source": [
        "random_search.fit(X,Y)"
      ],
      "execution_count": 13,
      "outputs": [
        {
          "output_type": "stream",
          "text": [
            "Fitting 10 folds for each of 5 candidates, totalling 50 fits\n"
          ],
          "name": "stdout"
        },
        {
          "output_type": "stream",
          "text": [
            "[Parallel(n_jobs=-1)]: Using backend LokyBackend with 2 concurrent workers.\n",
            "[Parallel(n_jobs=-1)]: Done  28 tasks      | elapsed:   11.8s\n",
            "[Parallel(n_jobs=-1)]: Done  50 out of  50 | elapsed:   20.0s finished\n"
          ],
          "name": "stderr"
        },
        {
          "output_type": "execute_result",
          "data": {
            "text/plain": [
              "RandomizedSearchCV(cv=10, error_score=nan,\n",
              "                   estimator=XGBClassifier(base_score=0.5, booster='gbtree',\n",
              "                                           colsample_bylevel=1,\n",
              "                                           colsample_bynode=1,\n",
              "                                           colsample_bytree=1, gamma=0,\n",
              "                                           learning_rate=0.1, max_delta_step=0,\n",
              "                                           max_depth=3, min_child_weight=1,\n",
              "                                           missing=None, n_estimators=100,\n",
              "                                           n_jobs=1, nthread=None,\n",
              "                                           objective='binary:logistic',\n",
              "                                           random_state=0, reg_alpha=0,\n",
              "                                           reg_lambda=1, s...\n",
              "                   iid='deprecated', n_iter=5, n_jobs=-1,\n",
              "                   param_distributions={'colsample_bytree': [0.3, 0.4, 0.5,\n",
              "                                                             0.7],\n",
              "                                        'gamma': [0.0, 0.1, 0.2, 0.3, 0.4],\n",
              "                                        'learning_rate': [0.001, 0.01, 0.02,\n",
              "                                                          0.05, 0.1, 0.15, 0.2,\n",
              "                                                          0.25, 0.3],\n",
              "                                        'max_depth': [3, 4, 5, 6, 8, 10, 12,\n",
              "                                                      15],\n",
              "                                        'min_child_weight': [1, 3, 5, 7]},\n",
              "                   pre_dispatch='2*n_jobs', random_state=None, refit=True,\n",
              "                   return_train_score=False, scoring='recall_weighted',\n",
              "                   verbose=3)"
            ]
          },
          "metadata": {
            "tags": []
          },
          "execution_count": 13
        }
      ]
    },
    {
      "cell_type": "code",
      "metadata": {
        "id": "BgjZRBF4mQlY"
      },
      "source": [
        "xgboost_best_estimator=random_search.best_estimator_"
      ],
      "execution_count": 14,
      "outputs": []
    },
    {
      "cell_type": "code",
      "metadata": {
        "colab": {
          "base_uri": "https://localhost:8080/"
        },
        "id": "HtA91b2Gp9Zg",
        "outputId": "f2ba214b-b197-4b02-d34c-f72e0d87c24e"
      },
      "source": [
        "random_search.best_params_"
      ],
      "execution_count": 17,
      "outputs": [
        {
          "output_type": "execute_result",
          "data": {
            "text/plain": [
              "{'colsample_bytree': 0.7,\n",
              " 'gamma': 0.1,\n",
              " 'learning_rate': 0.25,\n",
              " 'max_depth': 12,\n",
              " 'min_child_weight': 1}"
            ]
          },
          "metadata": {
            "tags": []
          },
          "execution_count": 17
        }
      ]
    },
    {
      "cell_type": "code",
      "metadata": {
        "id": "9ejeN9jRrK5p"
      },
      "source": [
        "classifier=xgboost_best_estimator\n",
        "\n"
      ],
      "execution_count": 18,
      "outputs": []
    },
    {
      "cell_type": "code",
      "metadata": {
        "id": "rb7USwAmrTqY"
      },
      "source": [
        "from sklearn.model_selection import cross_val_score\n",
        "from sklearn.model_selection import RepeatedStratifiedKFold\n",
        "cv = RepeatedStratifiedKFold(n_splits=10, n_repeats=3, random_state=1)\n",
        "score=cross_val_score(classifier,X,Y,cv=cv)"
      ],
      "execution_count": 19,
      "outputs": []
    },
    {
      "cell_type": "code",
      "metadata": {
        "colab": {
          "base_uri": "https://localhost:8080/"
        },
        "id": "M4PU1rVArZnZ",
        "outputId": "1648650c-3878-4257-f5bb-e702f19c7921"
      },
      "source": [
        "score"
      ],
      "execution_count": 20,
      "outputs": [
        {
          "output_type": "execute_result",
          "data": {
            "text/plain": [
              "array([0.77777778, 0.79365079, 0.93650794, 0.88888889, 0.92063492,\n",
              "       0.85714286, 0.80952381, 0.85714286, 0.80645161, 0.85483871,\n",
              "       0.80952381, 0.80952381, 0.87301587, 0.79365079, 0.84126984,\n",
              "       0.84126984, 0.82539683, 0.84126984, 0.90322581, 0.82258065,\n",
              "       0.79365079, 0.87301587, 0.88888889, 0.85714286, 0.80952381,\n",
              "       0.73015873, 0.85714286, 0.87301587, 0.88709677, 0.70967742])"
            ]
          },
          "metadata": {
            "tags": []
          },
          "execution_count": 20
        }
      ]
    },
    {
      "cell_type": "code",
      "metadata": {
        "colab": {
          "base_uri": "https://localhost:8080/"
        },
        "id": "p9RQqS7orfXR",
        "outputId": "df146b21-2f7b-441e-cd84-4bff17273f7a"
      },
      "source": [
        "score.mean()"
      ],
      "execution_count": 21,
      "outputs": [
        {
          "output_type": "execute_result",
          "data": {
            "text/plain": [
              "0.8380867042157366"
            ]
          },
          "metadata": {
            "tags": []
          },
          "execution_count": 21
        }
      ]
    },
    {
      "cell_type": "code",
      "metadata": {
        "id": "Zj6yVY5wggCp"
      },
      "source": [
        "res_score=[]\n",
        "res_score.append(score.mean())"
      ],
      "execution_count": 22,
      "outputs": []
    },
    {
      "cell_type": "code",
      "metadata": {
        "id": "-LrSJ054rgZh"
      },
      "source": [
        "from sklearn.ensemble import GradientBoostingClassifier\n",
        "from sklearn.datasets import make_hastie_10_2"
      ],
      "execution_count": 23,
      "outputs": []
    },
    {
      "cell_type": "code",
      "metadata": {
        "id": "V7Iomehb-dow"
      },
      "source": [
        "parameters = {\n",
        "    \"n_estimators\":[5,50,100,150,200,250,500],\n",
        "    \"max_depth\":[i for i in range(50)],\n",
        "    \"learning_rate\":[0.15,0.1,0.05,0.01,0.005,0.001],\n",
        "      'max_depth':[i for i in range(20)],  'max_leaf_nodes':[i for i in range(50)]\n",
        "\n",
        "}"
      ],
      "execution_count": 24,
      "outputs": []
    },
    {
      "cell_type": "code",
      "metadata": {
        "id": "XhAAa_U8DNpb"
      },
      "source": [
        "clf = GradientBoostingClassifier()"
      ],
      "execution_count": 25,
      "outputs": []
    },
    {
      "cell_type": "code",
      "metadata": {
        "id": "IeLzGeCfCrKi"
      },
      "source": [
        "random_search=RandomizedSearchCV(clf,param_distributions=parameters,n_iter=5,scoring='recall_weighted',n_jobs=-1,cv=10,verbose=3)"
      ],
      "execution_count": 26,
      "outputs": []
    },
    {
      "cell_type": "code",
      "metadata": {
        "colab": {
          "base_uri": "https://localhost:8080/"
        },
        "id": "BqL9o25PCwvw",
        "outputId": "f51fd8c7-ccc7-4e3b-8f73-e14535adbed1"
      },
      "source": [
        "random_search.fit(X,Y)"
      ],
      "execution_count": 27,
      "outputs": [
        {
          "output_type": "stream",
          "text": [
            "Fitting 10 folds for each of 5 candidates, totalling 50 fits\n"
          ],
          "name": "stdout"
        },
        {
          "output_type": "stream",
          "text": [
            "[Parallel(n_jobs=-1)]: Using backend LokyBackend with 2 concurrent workers.\n",
            "[Parallel(n_jobs=-1)]: Done  28 tasks      | elapsed:   34.8s\n",
            "[Parallel(n_jobs=-1)]: Done  50 out of  50 | elapsed:   35.6s finished\n"
          ],
          "name": "stderr"
        },
        {
          "output_type": "execute_result",
          "data": {
            "text/plain": [
              "RandomizedSearchCV(cv=10, error_score=nan,\n",
              "                   estimator=GradientBoostingClassifier(ccp_alpha=0.0,\n",
              "                                                        criterion='friedman_mse',\n",
              "                                                        init=None,\n",
              "                                                        learning_rate=0.1,\n",
              "                                                        loss='deviance',\n",
              "                                                        max_depth=3,\n",
              "                                                        max_features=None,\n",
              "                                                        max_leaf_nodes=None,\n",
              "                                                        min_impurity_decrease=0.0,\n",
              "                                                        min_impurity_split=None,\n",
              "                                                        min_samples_leaf=1,\n",
              "                                                        min_samples_split=2,\n",
              "                                                        min_weight_fraction_leaf=0.0,\n",
              "                                                        n_estimators=100,\n",
              "                                                        n_it...\n",
              "                   param_distributions={'learning_rate': [0.15, 0.1, 0.05, 0.01,\n",
              "                                                          0.005, 0.001],\n",
              "                                        'max_depth': [0, 1, 2, 3, 4, 5, 6, 7, 8,\n",
              "                                                      9, 10, 11, 12, 13, 14, 15,\n",
              "                                                      16, 17, 18, 19],\n",
              "                                        'max_leaf_nodes': [0, 1, 2, 3, 4, 5, 6,\n",
              "                                                           7, 8, 9, 10, 11, 12,\n",
              "                                                           13, 14, 15, 16, 17,\n",
              "                                                           18, 19, 20, 21, 22,\n",
              "                                                           23, 24, 25, 26, 27,\n",
              "                                                           28, 29, ...],\n",
              "                                        'n_estimators': [5, 50, 100, 150, 200,\n",
              "                                                         250, 500]},\n",
              "                   pre_dispatch='2*n_jobs', random_state=None, refit=True,\n",
              "                   return_train_score=False, scoring='recall_weighted',\n",
              "                   verbose=3)"
            ]
          },
          "metadata": {
            "tags": []
          },
          "execution_count": 27
        }
      ]
    },
    {
      "cell_type": "code",
      "metadata": {
        "id": "jl4SsZu_C7Fl"
      },
      "source": [
        "gradientboost_best_estimator=random_search.best_estimator_"
      ],
      "execution_count": 28,
      "outputs": []
    },
    {
      "cell_type": "code",
      "metadata": {
        "id": "afE41rtkMGEe"
      },
      "source": [
        "clf = gradientboost_best_estimator\n"
      ],
      "execution_count": 29,
      "outputs": []
    },
    {
      "cell_type": "code",
      "metadata": {
        "id": "XMxDv9MYCwNz"
      },
      "source": [
        "from sklearn.model_selection import cross_val_score\n",
        "from sklearn.model_selection import RepeatedStratifiedKFold\n",
        "cv = RepeatedStratifiedKFold(n_splits=10, n_repeats=3, random_state=1)\n",
        "score=cross_val_score(clf,X,Y,cv=cv)"
      ],
      "execution_count": 30,
      "outputs": []
    },
    {
      "cell_type": "code",
      "metadata": {
        "colab": {
          "base_uri": "https://localhost:8080/"
        },
        "id": "8--4zSOwE7Xs",
        "outputId": "bc57b843-6e7f-4e3d-c8f2-eccb479d82a2"
      },
      "source": [
        "score"
      ],
      "execution_count": 31,
      "outputs": [
        {
          "output_type": "execute_result",
          "data": {
            "text/plain": [
              "array([0.74603175, 0.79365079, 0.93650794, 0.87301587, 0.9047619 ,\n",
              "       0.85714286, 0.84126984, 0.88888889, 0.85483871, 0.82258065,\n",
              "       0.88888889, 0.84126984, 0.85714286, 0.77777778, 0.9047619 ,\n",
              "       0.9047619 , 0.82539683, 0.87301587, 0.90322581, 0.82258065,\n",
              "       0.80952381, 0.88888889, 0.85714286, 0.88888889, 0.88888889,\n",
              "       0.82539683, 0.92063492, 0.9047619 , 0.87096774, 0.80645161])"
            ]
          },
          "metadata": {
            "tags": []
          },
          "execution_count": 31
        }
      ]
    },
    {
      "cell_type": "code",
      "metadata": {
        "colab": {
          "base_uri": "https://localhost:8080/"
        },
        "id": "Kjrty_8oE5x-",
        "outputId": "1eb2838e-914d-41bb-8c4a-f57010473485"
      },
      "source": [
        "score.mean()"
      ],
      "execution_count": 32,
      "outputs": [
        {
          "output_type": "execute_result",
          "data": {
            "text/plain": [
              "0.8593019286567674"
            ]
          },
          "metadata": {
            "tags": []
          },
          "execution_count": 32
        }
      ]
    },
    {
      "cell_type": "code",
      "metadata": {
        "id": "qEUgicvjgsg-"
      },
      "source": [
        "res_score.append(score.mean())"
      ],
      "execution_count": 33,
      "outputs": []
    },
    {
      "cell_type": "code",
      "metadata": {
        "id": "XJRCmWE_Hd17"
      },
      "source": [
        "import numpy as np\n",
        "# Number of trees in random forest\n",
        "n_estimators = [int(x) for x in np.linspace(start = 200, stop = 2000, num = 10)]\n",
        "# Number of features to consider at every split\n",
        "max_features = ['auto', 'sqrt','log2']\n",
        "# Maximum number of levels in tree\n",
        "max_depth = [int(x) for x in np.linspace(5, 1000,10)]\n",
        "# Minimum number of samples required to split a node\n",
        "min_samples_split = [2, 5, 10,14]\n",
        "# Minimum number of samples required at each leaf node\n",
        "min_samples_leaf = [1, 2, 4,6,8]\n",
        "# Create the random grid\n",
        "random_grid = {'n_estimators': n_estimators,\n",
        "               'max_features': max_features,\n",
        "               'max_depth': max_depth,\n",
        "               'min_samples_split': min_samples_split,\n",
        "               'min_samples_leaf': min_samples_leaf,\n",
        "              'criterion':['entropy','gini']}"
      ],
      "execution_count": 34,
      "outputs": []
    },
    {
      "cell_type": "code",
      "metadata": {
        "id": "_4yGChRgI5fS"
      },
      "source": [
        "from sklearn.ensemble import RandomForestClassifier\n",
        "rf=RandomForestClassifier()"
      ],
      "execution_count": 35,
      "outputs": []
    },
    {
      "cell_type": "code",
      "metadata": {
        "id": "nGfkvA1PIna8"
      },
      "source": [
        "random_search=RandomizedSearchCV(rf,param_distributions=random_grid,n_iter=5,scoring='recall_weighted',n_jobs=-1,cv=10,verbose=3)"
      ],
      "execution_count": 36,
      "outputs": []
    },
    {
      "cell_type": "code",
      "metadata": {
        "colab": {
          "base_uri": "https://localhost:8080/"
        },
        "id": "CqDMWD_pJH6n",
        "outputId": "11b98a15-1e94-45b2-f0c7-9a4fdb0329e0"
      },
      "source": [
        "random_search.fit(X,Y)"
      ],
      "execution_count": 37,
      "outputs": [
        {
          "output_type": "stream",
          "text": [
            "Fitting 10 folds for each of 5 candidates, totalling 50 fits\n"
          ],
          "name": "stdout"
        },
        {
          "output_type": "stream",
          "text": [
            "[Parallel(n_jobs=-1)]: Using backend LokyBackend with 2 concurrent workers.\n",
            "[Parallel(n_jobs=-1)]: Done  28 tasks      | elapsed:  2.3min\n",
            "[Parallel(n_jobs=-1)]: Done  50 out of  50 | elapsed:  3.4min finished\n"
          ],
          "name": "stderr"
        },
        {
          "output_type": "execute_result",
          "data": {
            "text/plain": [
              "RandomizedSearchCV(cv=10, error_score=nan,\n",
              "                   estimator=RandomForestClassifier(bootstrap=True,\n",
              "                                                    ccp_alpha=0.0,\n",
              "                                                    class_weight=None,\n",
              "                                                    criterion='gini',\n",
              "                                                    max_depth=None,\n",
              "                                                    max_features='auto',\n",
              "                                                    max_leaf_nodes=None,\n",
              "                                                    max_samples=None,\n",
              "                                                    min_impurity_decrease=0.0,\n",
              "                                                    min_impurity_split=None,\n",
              "                                                    min_samples_leaf=1,\n",
              "                                                    min_samples_split=2,\n",
              "                                                    min_weight_fraction_leaf=0.0,\n",
              "                                                    n_estimators=100,\n",
              "                                                    n_job...\n",
              "                   param_distributions={'criterion': ['entropy', 'gini'],\n",
              "                                        'max_depth': [5, 115, 226, 336, 447,\n",
              "                                                      557, 668, 778, 889,\n",
              "                                                      1000],\n",
              "                                        'max_features': ['auto', 'sqrt',\n",
              "                                                         'log2'],\n",
              "                                        'min_samples_leaf': [1, 2, 4, 6, 8],\n",
              "                                        'min_samples_split': [2, 5, 10, 14],\n",
              "                                        'n_estimators': [200, 400, 600, 800,\n",
              "                                                         1000, 1200, 1400, 1600,\n",
              "                                                         1800, 2000]},\n",
              "                   pre_dispatch='2*n_jobs', random_state=None, refit=True,\n",
              "                   return_train_score=False, scoring='recall_weighted',\n",
              "                   verbose=3)"
            ]
          },
          "metadata": {
            "tags": []
          },
          "execution_count": 37
        }
      ]
    },
    {
      "cell_type": "code",
      "metadata": {
        "id": "AZ6kFlwmLHmq"
      },
      "source": [
        "randomforest_best_estimator=random_search.best_estimator_"
      ],
      "execution_count": 38,
      "outputs": []
    },
    {
      "cell_type": "code",
      "metadata": {
        "id": "G5w8J3HbLSBx"
      },
      "source": [
        "rf=randomforest_best_estimator"
      ],
      "execution_count": 39,
      "outputs": []
    },
    {
      "cell_type": "code",
      "metadata": {
        "id": "gYK-FpBnLZJ5"
      },
      "source": [
        "cv = RepeatedStratifiedKFold(n_splits=10, n_repeats=3, random_state=1)\n",
        "score=cross_val_score(rf,X,Y,cv=cv)"
      ],
      "execution_count": 40,
      "outputs": []
    },
    {
      "cell_type": "code",
      "metadata": {
        "colab": {
          "base_uri": "https://localhost:8080/"
        },
        "id": "E--EsSg4LdYw",
        "outputId": "61d0cabb-3241-41ee-9831-22d1842bf038"
      },
      "source": [
        "score"
      ],
      "execution_count": 41,
      "outputs": [
        {
          "output_type": "execute_result",
          "data": {
            "text/plain": [
              "array([0.71428571, 0.74603175, 0.88888889, 0.84126984, 0.9047619 ,\n",
              "       0.84126984, 0.76190476, 0.85714286, 0.82258065, 0.83870968,\n",
              "       0.82539683, 0.77777778, 0.87301587, 0.74603175, 0.87301587,\n",
              "       0.82539683, 0.77777778, 0.74603175, 0.82258065, 0.74193548,\n",
              "       0.76190476, 0.85714286, 0.87301587, 0.80952381, 0.84126984,\n",
              "       0.76190476, 0.76190476, 0.87301587, 0.82258065, 0.72580645])"
            ]
          },
          "metadata": {
            "tags": []
          },
          "execution_count": 41
        }
      ]
    },
    {
      "cell_type": "code",
      "metadata": {
        "colab": {
          "base_uri": "https://localhost:8080/"
        },
        "id": "9P3EIeCTLeZZ",
        "outputId": "902b310b-e6ba-4185-aaad-78ccf8d28d1a"
      },
      "source": [
        "score.mean()"
      ],
      "execution_count": 42,
      "outputs": [
        {
          "output_type": "execute_result",
          "data": {
            "text/plain": [
              "0.810462536268988"
            ]
          },
          "metadata": {
            "tags": []
          },
          "execution_count": 42
        }
      ]
    },
    {
      "cell_type": "code",
      "metadata": {
        "id": "YLZeM5jqgvDs"
      },
      "source": [
        "res_score.append(score.mean())"
      ],
      "execution_count": 43,
      "outputs": []
    },
    {
      "cell_type": "code",
      "metadata": {
        "id": "hYFh4Yh-gv0r"
      },
      "source": [
        "dframe=pd.DataFrame({'performance':res_score},index=['XG Boosting','Gradient Boosting','Random Forest'])"
      ],
      "execution_count": 45,
      "outputs": []
    },
    {
      "cell_type": "code",
      "metadata": {
        "colab": {
          "base_uri": "https://localhost:8080/",
          "height": 282
        },
        "id": "7uAJMWQkhwJ0",
        "outputId": "c8d40224-f926-410c-d49f-3aff84cc34a7"
      },
      "source": [
        "dframe.plot.barh(color='green')"
      ],
      "execution_count": 51,
      "outputs": [
        {
          "output_type": "execute_result",
          "data": {
            "text/plain": [
              "<matplotlib.axes._subplots.AxesSubplot at 0x7fb413e39390>"
            ]
          },
          "metadata": {
            "tags": []
          },
          "execution_count": 51
        },
        {
          "output_type": "display_data",
          "data": {
            "image/png": "[encoded data removed]",
            "text/plain": [
              "<Figure size 432x288 with 1 Axes>"
            ]
          },
          "metadata": {
            "tags": [],
            "needs_background": "light"
          }
        }
      ]
    },
    {
      "cell_type": "code",
      "metadata": {
        "id": "0CD25zGmnkgL"
      },
      "source": [
        ""
      ],
      "execution_count": null,
      "outputs": []
    }
  ]
}